{
  "nbformat": 4,
  "nbformat_minor": 0,
  "metadata": {
    "colab": {
      "provenance": [],
      "collapsed_sections": [
        "WIBb_bXR_3Rm",
        "5vv8mOTW_8QX",
        "oc_PBTgoAOAJ"
      ],
      "authorship_tag": "ABX9TyN27oEXRj3TR7D/Uyskalm8",
      "include_colab_link": true
    },
    "kernelspec": {
      "name": "python3",
      "display_name": "Python 3"
    },
    "language_info": {
      "name": "python"
    }
  },
  "cells": [
    {
      "cell_type": "markdown",
      "metadata": {
        "id": "view-in-github",
        "colab_type": "text"
      },
      "source": [
        "<a href=\"https://colab.research.google.com/github/santiagoahl/Introduction-to-Machine-Learning2021-I/blob/main/Logistic_Regression.ipynb\" target=\"_parent\"><img src=\"https://colab.research.google.com/assets/colab-badge.svg\" alt=\"Open In Colab\"/></a>"
      ]
    },
    {
      "cell_type": "markdown",
      "source": [
        "# Logistic regression algorithm using NNets representation and gradient descent"
      ],
      "metadata": {
        "id": "GwyLufl3_-kW"
      }
    },
    {
      "cell_type": "markdown",
      "source": [
        "In this notebook I will show how can we view NNets as computational graphs in order to finds a logistic regresor that classifies data in $R^n$ into 2 classes. We also work with the gradient descent algorithm in order to optimize de the cost function and hence to obtain a good classifier."
      ],
      "metadata": {
        "id": "5V-RgIjS_Usl"
      }
    },
    {
      "cell_type": "markdown",
      "source": [
        ">[Logistic regression algorithm using NNets representation and gradient descent](#updateTitle=true&folderId=1om8FE2WbqI_0fYPyYldVyLfQxO9_tIfF&scrollTo=GwyLufl3_-kW)\n",
        "\n",
        ">>[Data Generation](#updateTitle=true&folderId=1om8FE2WbqI_0fYPyYldVyLfQxO9_tIfF&scrollTo=31NYXAMp_zn_)\n",
        "\n",
        ">>[Overview: Sigmoid Function](#updateTitle=true&folderId=1om8FE2WbqI_0fYPyYldVyLfQxO9_tIfF&scrollTo=WIBb_bXR_3Rm)\n",
        "\n"
      ],
      "metadata": {
        "colab_type": "toc",
        "id": "IFaTKwlU_y0L"
      }
    },
    {
      "cell_type": "markdown",
      "source": [
        "## Libraries"
      ],
      "metadata": {
        "id": "LSSPG6HbA0SN"
      }
    },
    {
      "cell_type": "code",
      "source": [
        "import numpy as np\n",
        "import matplotlib.pyplot as plt\n",
        "import seaborn as sns\n",
        "from google.colab import drive"
      ],
      "metadata": {
        "id": "XrV8f6iRA1WZ"
      },
      "execution_count": 18,
      "outputs": []
    },
    {
      "cell_type": "code",
      "source": [
        "drive.mount('/content/drive')o"
      ],
      "metadata": {
        "id": "FX1ij1sDDsL0"
      },
      "execution_count": null,
      "outputs": []
    },
    {
      "cell_type": "code",
      "source": [
        "plt.style.use('seaborn-bright')"
      ],
      "metadata": {
        "id": "5IDcKgg2BwMO"
      },
      "execution_count": 15,
      "outputs": []
    },
    {
      "cell_type": "code",
      "source": [
        "%run '/content/drive/MyDrive/personal-projects/machine-learning-algorithms/Logistic Regression/utils.ipynb'"
      ],
      "metadata": {
        "id": "fr29XOA-Ee-H"
      },
      "execution_count": 91,
      "outputs": []
    },
    {
      "cell_type": "markdown",
      "source": [
        "## Data Generation"
      ],
      "metadata": {
        "id": "31NYXAMp_zn_"
      }
    },
    {
      "cell_type": "markdown",
      "source": [
        "We are going to work in $R^2$ (Visualization purposes). In general we set the dimension of the data points as $n$, the training dataset size as $m$ and hence each data point will have this form: $\\text{x} = [1, x_1, \\dots, x_n]$."
      ],
      "metadata": {
        "id": "TZOIEClvAm6t"
      }
    },
    {
      "cell_type": "code",
      "source": [
        "X = np.random.rand(10, 2)"
      ],
      "metadata": {
        "id": "ALy6T6pv_2r0"
      },
      "execution_count": 128,
      "outputs": []
    },
    {
      "cell_type": "code",
      "source": [
        "X.shape"
      ],
      "metadata": {
        "colab": {
          "base_uri": "https://localhost:8080/"
        },
        "id": "eYx7MvozU56a",
        "outputId": "1703d780-f34c-4b8a-b5c3-4d53e3a8ddc4"
      },
      "execution_count": 137,
      "outputs": [
        {
          "output_type": "execute_result",
          "data": {
            "text/plain": [
              "(10, 2)"
            ]
          },
          "metadata": {},
          "execution_count": 137
        }
      ]
    },
    {
      "cell_type": "code",
      "source": [
        "w_ideal.shape"
      ],
      "metadata": {
        "colab": {
          "base_uri": "https://localhost:8080/"
        },
        "id": "JoEtABfaU6-y",
        "outputId": "35c39fd8-a8b5-4167-f84c-46d4b068b302"
      },
      "execution_count": 138,
      "outputs": [
        {
          "output_type": "execute_result",
          "data": {
            "text/plain": [
              "(3,)"
            ]
          },
          "metadata": {},
          "execution_count": 138
        }
      ]
    },
    {
      "cell_type": "code",
      "source": [
        "# Generate a 2D array of random numbers between 0 and 1\n",
        "random_vectors = np.random.rand(100, 2)\n",
        "\n",
        "# Create an array of ones with the same shape as random_vectors\n",
        "ones = np.ones((random_vectors.shape[0], 1))\n",
        "\n",
        "# Concatenate the ones array and the random_vectors array along the second axis to create 3D vectors\n",
        "flattened_vectors = np.concatenate((ones, random_vectors), axis=1)"
      ],
      "metadata": {
        "id": "UcqH4UfmVrNA"
      },
      "execution_count": 139,
      "outputs": []
    },
    {
      "cell_type": "code",
      "source": [
        "flattened_vectors"
      ],
      "metadata": {
        "colab": {
          "base_uri": "https://localhost:8080/"
        },
        "id": "DmCFPwVtVsDe",
        "outputId": "700e0fe9-d74b-4bad-98b8-7e07d9d00f4b"
      },
      "execution_count": 142,
      "outputs": [
        {
          "output_type": "execute_result",
          "data": {
            "text/plain": [
              "array([[1.00000000e+00, 7.02220795e-03, 8.54762469e-01],\n",
              "       [1.00000000e+00, 2.91676479e-02, 6.33923480e-01],\n",
              "       [1.00000000e+00, 1.98552119e-01, 8.76460287e-01],\n",
              "       [1.00000000e+00, 4.36873703e-01, 3.82639655e-01],\n",
              "       [1.00000000e+00, 1.67633529e-01, 7.23688553e-01],\n",
              "       [1.00000000e+00, 6.99172440e-02, 1.63893406e-01],\n",
              "       [1.00000000e+00, 1.68219569e-01, 3.01360258e-01],\n",
              "       [1.00000000e+00, 1.57273087e-01, 8.69192689e-01],\n",
              "       [1.00000000e+00, 3.21469635e-01, 1.78527708e-01],\n",
              "       [1.00000000e+00, 7.67627351e-01, 4.59214045e-01],\n",
              "       [1.00000000e+00, 7.43277048e-01, 6.69656365e-02],\n",
              "       [1.00000000e+00, 8.86923132e-01, 5.19351668e-01],\n",
              "       [1.00000000e+00, 8.03460215e-01, 8.05353735e-01],\n",
              "       [1.00000000e+00, 8.26030775e-01, 2.73785789e-01],\n",
              "       [1.00000000e+00, 7.75931464e-01, 5.31801650e-01],\n",
              "       [1.00000000e+00, 6.82869381e-01, 7.62051345e-01],\n",
              "       [1.00000000e+00, 8.88391258e-01, 4.33830747e-01],\n",
              "       [1.00000000e+00, 1.81873258e-01, 1.23462391e-01],\n",
              "       [1.00000000e+00, 6.14079885e-01, 7.91578752e-01],\n",
              "       [1.00000000e+00, 5.37904096e-01, 2.01213402e-01],\n",
              "       [1.00000000e+00, 7.51310388e-01, 4.69129366e-01],\n",
              "       [1.00000000e+00, 8.81392404e-01, 6.65129302e-01],\n",
              "       [1.00000000e+00, 1.26271381e-01, 3.20508339e-01],\n",
              "       [1.00000000e+00, 3.68675182e-01, 2.18817000e-01],\n",
              "       [1.00000000e+00, 6.46582698e-01, 2.00204682e-01],\n",
              "       [1.00000000e+00, 8.21363966e-01, 6.62354935e-01],\n",
              "       [1.00000000e+00, 2.52849603e-01, 1.65927684e-01],\n",
              "       [1.00000000e+00, 8.94516301e-04, 8.29466689e-01],\n",
              "       [1.00000000e+00, 4.08995427e-02, 4.91862949e-01],\n",
              "       [1.00000000e+00, 9.60951609e-01, 2.56400914e-01],\n",
              "       [1.00000000e+00, 1.38602678e-01, 3.08786722e-01],\n",
              "       [1.00000000e+00, 3.57177465e-01, 2.67907543e-01],\n",
              "       [1.00000000e+00, 1.61179130e-01, 3.60753615e-01],\n",
              "       [1.00000000e+00, 8.68336747e-01, 1.25105846e-01],\n",
              "       [1.00000000e+00, 1.44405295e-01, 8.77052882e-01],\n",
              "       [1.00000000e+00, 6.16335183e-01, 1.06429411e-02],\n",
              "       [1.00000000e+00, 1.43628034e-01, 4.43995689e-02],\n",
              "       [1.00000000e+00, 6.61372354e-01, 8.72361246e-01],\n",
              "       [1.00000000e+00, 7.42610051e-01, 4.16206677e-01],\n",
              "       [1.00000000e+00, 2.51550217e-02, 1.90249211e-01],\n",
              "       [1.00000000e+00, 5.26367370e-01, 8.73044372e-01],\n",
              "       [1.00000000e+00, 1.60015847e-01, 8.70620449e-01],\n",
              "       [1.00000000e+00, 4.99802460e-01, 5.74383862e-01],\n",
              "       [1.00000000e+00, 2.47726431e-01, 5.68811456e-01],\n",
              "       [1.00000000e+00, 9.90659833e-01, 6.10170456e-02],\n",
              "       [1.00000000e+00, 2.69836982e-01, 4.15274437e-01],\n",
              "       [1.00000000e+00, 1.33378640e-01, 6.27980888e-01],\n",
              "       [1.00000000e+00, 1.49332319e-01, 3.57965202e-01],\n",
              "       [1.00000000e+00, 4.24465165e-01, 8.28868834e-01],\n",
              "       [1.00000000e+00, 2.99563796e-01, 9.79084823e-01],\n",
              "       [1.00000000e+00, 1.14192424e-01, 7.46772389e-01],\n",
              "       [1.00000000e+00, 1.39824464e-01, 8.25943671e-02],\n",
              "       [1.00000000e+00, 7.29265610e-01, 9.62234929e-01],\n",
              "       [1.00000000e+00, 5.33141775e-01, 5.08392853e-01],\n",
              "       [1.00000000e+00, 7.06329179e-01, 9.19321921e-01],\n",
              "       [1.00000000e+00, 4.00018717e-01, 1.31732003e-01],\n",
              "       [1.00000000e+00, 2.28322918e-02, 9.39127275e-01],\n",
              "       [1.00000000e+00, 3.54764947e-01, 1.86206675e-01],\n",
              "       [1.00000000e+00, 7.03080054e-01, 6.13295932e-01],\n",
              "       [1.00000000e+00, 1.53993677e-01, 7.74977303e-01],\n",
              "       [1.00000000e+00, 6.21753564e-01, 1.63902598e-01],\n",
              "       [1.00000000e+00, 8.12815369e-01, 2.85313253e-02],\n",
              "       [1.00000000e+00, 2.45741502e-01, 5.21587923e-01],\n",
              "       [1.00000000e+00, 9.50669351e-01, 5.10517028e-01],\n",
              "       [1.00000000e+00, 8.10507079e-01, 3.62592879e-01],\n",
              "       [1.00000000e+00, 3.99154535e-02, 4.30928792e-01],\n",
              "       [1.00000000e+00, 7.13207221e-01, 7.94563658e-01],\n",
              "       [1.00000000e+00, 6.93382046e-01, 8.79630444e-01],\n",
              "       [1.00000000e+00, 7.26281682e-01, 9.80924276e-01],\n",
              "       [1.00000000e+00, 2.77124873e-03, 8.92894681e-01],\n",
              "       [1.00000000e+00, 8.19759936e-01, 6.81610769e-01],\n",
              "       [1.00000000e+00, 1.78653310e-01, 3.66498928e-01],\n",
              "       [1.00000000e+00, 4.22392746e-01, 1.60988202e-01],\n",
              "       [1.00000000e+00, 4.86008811e-01, 6.58481566e-01],\n",
              "       [1.00000000e+00, 2.68944286e-01, 3.31443122e-01],\n",
              "       [1.00000000e+00, 5.29448818e-01, 1.42359343e-01],\n",
              "       [1.00000000e+00, 2.46828203e-01, 1.03726810e-01],\n",
              "       [1.00000000e+00, 5.19369830e-01, 1.85251815e-01],\n",
              "       [1.00000000e+00, 6.51866542e-01, 8.19983872e-01],\n",
              "       [1.00000000e+00, 5.74556400e-01, 4.18573001e-01],\n",
              "       [1.00000000e+00, 6.09179569e-01, 7.70488812e-01],\n",
              "       [1.00000000e+00, 9.77772577e-01, 4.85100121e-01],\n",
              "       [1.00000000e+00, 7.61689838e-01, 5.82007303e-02],\n",
              "       [1.00000000e+00, 9.57934601e-01, 2.01488458e-02],\n",
              "       [1.00000000e+00, 2.50459726e-01, 9.05876210e-01],\n",
              "       [1.00000000e+00, 1.96053982e-01, 4.93642271e-02],\n",
              "       [1.00000000e+00, 7.30329836e-01, 3.21705791e-01],\n",
              "       [1.00000000e+00, 9.38304926e-01, 8.44222586e-01],\n",
              "       [1.00000000e+00, 7.71956044e-01, 5.22106158e-01],\n",
              "       [1.00000000e+00, 3.16462964e-01, 7.86531302e-01],\n",
              "       [1.00000000e+00, 4.47292154e-01, 1.18036840e-01],\n",
              "       [1.00000000e+00, 3.38488236e-01, 4.48355837e-01],\n",
              "       [1.00000000e+00, 1.95660033e-01, 8.53505802e-01],\n",
              "       [1.00000000e+00, 5.08109063e-01, 3.59664736e-01],\n",
              "       [1.00000000e+00, 8.57884603e-01, 5.07004904e-01],\n",
              "       [1.00000000e+00, 4.13143080e-01, 2.74741489e-01],\n",
              "       [1.00000000e+00, 9.57973741e-01, 4.35893292e-01],\n",
              "       [1.00000000e+00, 7.56461228e-01, 5.66855045e-01],\n",
              "       [1.00000000e+00, 5.68044374e-02, 9.20069651e-01],\n",
              "       [1.00000000e+00, 6.63461618e-01, 5.42411141e-01]])"
            ]
          },
          "metadata": {},
          "execution_count": 142
        }
      ]
    },
    {
      "cell_type": "code",
      "source": [
        "w_ideal = np.random.rand(1, 3)[0]"
      ],
      "metadata": {
        "id": "y5gZu9sCKEvd"
      },
      "execution_count": 117,
      "outputs": []
    },
    {
      "cell_type": "code",
      "source": [
        "z = perceptron(w_ideal)\n",
        "z"
      ],
      "metadata": {
        "colab": {
          "base_uri": "https://localhost:8080/"
        },
        "id": "I6XOQCPDSJuh",
        "outputId": "a3ed3f17-a5df-4629-bb18-d8af38d9e575"
      },
      "execution_count": 136,
      "outputs": [
        {
          "output_type": "execute_result",
          "data": {
            "text/plain": [
              "1.1787100869379348"
            ]
          },
          "metadata": {},
          "execution_count": 136
        }
      ]
    },
    {
      "cell_type": "code",
      "source": [
        "y_prob = sigmoid()"
      ],
      "metadata": {
        "colab": {
          "base_uri": "https://localhost:8080/"
        },
        "id": "9ock2Sl-StFb",
        "outputId": "e5ea4916-3232-4b8b-9f00-1d985ad35d85"
      },
      "execution_count": 135,
      "outputs": [
        {
          "output_type": "execute_result",
          "data": {
            "text/plain": [
              "1.1787100869379348"
            ]
          },
          "metadata": {},
          "execution_count": 135
        }
      ]
    },
    {
      "cell_type": "code",
      "source": [
        "X"
      ],
      "metadata": {
        "colab": {
          "base_uri": "https://localhost:8080/"
        },
        "id": "IaIwE74VS4JK",
        "outputId": "512ad43f-fc62-452e-981f-25bdaa98d8cd"
      },
      "execution_count": 130,
      "outputs": [
        {
          "output_type": "execute_result",
          "data": {
            "text/plain": [
              "array([[0.03862397, 0.89368524],\n",
              "       [0.51824798, 0.41043773],\n",
              "       [0.87555226, 0.96225443],\n",
              "       [0.63886483, 0.68568763],\n",
              "       [0.95284614, 0.77595864],\n",
              "       [0.00271093, 0.85411762],\n",
              "       [0.73719525, 0.88093458],\n",
              "       [0.30299243, 0.51667825],\n",
              "       [0.57045343, 0.50251018],\n",
              "       [0.44617217, 0.16271385]])"
            ]
          },
          "metadata": {},
          "execution_count": 130
        }
      ]
    },
    {
      "cell_type": "code",
      "source": [
        "y_prob = sigmoid(np.dot(w_ideal, np.insert(arr=x, obj=0, values=1)))"
      ],
      "metadata": {
        "id": "pOvnxeagSIxY"
      },
      "execution_count": null,
      "outputs": []
    },
    {
      "cell_type": "code",
      "source": [
        "y_prob"
      ],
      "metadata": {
        "colab": {
          "base_uri": "https://localhost:8080/"
        },
        "id": "hMX9lxZCRW1d",
        "outputId": "7ab652c6-65a8-4836-adc2-aace7f7c2695"
      },
      "execution_count": 101,
      "outputs": [
        {
          "output_type": "execute_result",
          "data": {
            "text/plain": [
              "array([[0.63212607, 0.57074608],\n",
              "       [0.68352982, 0.61631517],\n",
              "       [0.72163622, 0.71866145],\n",
              "       [0.71563986, 0.50957859],\n",
              "       [0.51612799, 0.57760155],\n",
              "       [0.59642207, 0.64329486],\n",
              "       [0.5217034 , 0.70023273],\n",
              "       [0.7039025 , 0.57262896],\n",
              "       [0.69765494, 0.61888965],\n",
              "       [0.59826093, 0.59398048]])"
            ]
          },
          "metadata": {},
          "execution_count": 101
        }
      ]
    },
    {
      "cell_type": "code",
      "source": [
        "plot_scatter(x, x, title='Data Points')"
      ],
      "metadata": {
        "colab": {
          "base_uri": "https://localhost:8080/",
          "height": 281
        },
        "id": "DVeN_lQxJ2fS",
        "outputId": "648972e0-be48-4f51-caf7-d23ba0741c1b"
      },
      "execution_count": 49,
      "outputs": [
        {
          "output_type": "display_data",
          "data": {
            "text/plain": [
              "<Figure size 432x288 with 1 Axes>"
            ],
            "image/png": "[encoded data removed]"
          },
          "metadata": {
            "needs_background": "light"
          }
        }
      ]
    },
    {
      "cell_type": "markdown",
      "source": [
        "## Perceptron"
      ],
      "metadata": {
        "id": "otRNoWXhAMDS"
      }
    },
    {
      "cell_type": "markdown",
      "source": [
        "Observe the initial vector $\\text{w}=[b, w_1, w_2]$ and a data point $x=[1, x_1, x_2]$"
      ],
      "metadata": {
        "id": "iNJuOsA6FxVq"
      }
    },
    {
      "cell_type": "code",
      "source": [
        "w = np.array([-3, 1, 2])\n",
        "x = np.array([3, -1])"
      ],
      "metadata": {
        "id": "1VRcXkzxF_xs"
      },
      "execution_count": 104,
      "outputs": []
    },
    {
      "cell_type": "markdown",
      "source": [
        "So let's build a simple perceptron whose inputs are $\\text{x}$ and $\\text{w}$ and the output is $$\\sum_{i\\in[n]}w_ix_i = \\text{w}^T\\text{x}$$"
      ],
      "metadata": {
        "id": "Tu1wZIS8GJll"
      }
    },
    {
      "cell_type": "code",
      "source": [
        "def perceptron(w, x):\n",
        "  x = np.insert(arr=x, obj=0, values=1)\n",
        "  return w.dot(x)"
      ],
      "metadata": {
        "id": "LFbduIEOHBSM"
      },
      "execution_count": 110,
      "outputs": []
    },
    {
      "cell_type": "code",
      "source": [
        "print('The output of x = {} and w = {} is {}'.format(x, w, perceptron(w, x)))"
      ],
      "metadata": {
        "colab": {
          "base_uri": "https://localhost:8080/"
        },
        "id": "97zntM2CHIMM",
        "outputId": "659117c7-111e-417d-ce77-dc6cef5cbd8e"
      },
      "execution_count": 115,
      "outputs": [
        {
          "output_type": "stream",
          "name": "stdout",
          "text": [
            "The output of x = [ 3 -1] and w = [-3  1  2] is -2\n"
          ]
        }
      ]
    },
    {
      "cell_type": "markdown",
      "source": [
        "## Sigmoid Function"
      ],
      "metadata": {
        "id": "WIBb_bXR_3Rm"
      }
    },
    {
      "cell_type": "code",
      "source": [
        "def sigmoid(z):\n",
        "  sig = 1 / (1 + np.exp(-z))\n",
        "  return sig"
      ],
      "metadata": {
        "id": "gKIwbwYkAwvm"
      },
      "execution_count": 28,
      "outputs": []
    },
    {
      "cell_type": "code",
      "source": [
        "plot_line(sigmoid, x=np.linspace(-3, 1, 1000), title='Sigmoid function')"
      ],
      "metadata": {
        "colab": {
          "base_uri": "https://localhost:8080/",
          "height": 499
        },
        "id": "Bvh8V6LuBMgt",
        "outputId": "b6d8ec21-6f39-4773-8b61-af1497ca2f4c"
      },
      "execution_count": 92,
      "outputs": [
        {
          "output_type": "display_data",
          "data": {
            "text/plain": [
              "<Figure size 720x576 with 1 Axes>"
            ],
            "image/png": "[encoded data removed]"
          },
          "metadata": {
            "needs_background": "light"
          }
        }
      ]
    },
    {
      "cell_type": "code",
      "source": [
        "plot_line(sigmoid, x=np.linspace(-3, 1, 1000), title='Sigmoid function')\n",
        "plot_scatter(x=z(w, x), y=sigmoid(z(w, x)), title='Sigmoid mapping for perceptron')\n",
        "plt.show()"
      ],
      "metadata": {
        "colab": {
          "base_uri": "https://localhost:8080/",
          "height": 499
        },
        "id": "w-6C38tzHsD4",
        "outputId": "4a9415b4-aebe-430e-9435-2e8164d4905e"
      },
      "execution_count": 47,
      "outputs": [
        {
          "output_type": "display_data",
          "data": {
            "text/plain": [
              "<Figure size 720x576 with 1 Axes>"
            ],
            "image/png": "[encoded data removed]"
          },
          "metadata": {
            "needs_background": "light"
          }
        }
      ]
    },
    {
      "cell_type": "markdown",
      "source": [
        "## Cross Entropy"
      ],
      "metadata": {
        "id": "5vv8mOTW_8QX"
      }
    },
    {
      "cell_type": "markdown",
      "source": [
        "Formula:\n",
        "$$\n",
        "  \\mathcal{L}(\\hat{y}, y) = -\\big(ylog(\\hat{y}) + (1-y)log(1-\\hat{y})\\big)\n",
        "$$"
      ],
      "metadata": {
        "id": "cHw20hhvNA2u"
      }
    },
    {
      "cell_type": "code",
      "source": [
        "y_hat = np.random.rand(10)# also named y_pred"
      ],
      "metadata": {
        "id": "ikvMMEG0KcDQ"
      },
      "execution_count": 62,
      "outputs": []
    },
    {
      "cell_type": "code",
      "source": [
        "print('y_hat: {}'.format(y_hat))"
      ],
      "metadata": {
        "colab": {
          "base_uri": "https://localhost:8080/"
        },
        "id": "bnNkWwIGKkvk",
        "outputId": "5dc033ac-5efb-43cd-8b7c-e4c1c2b74ccd"
      },
      "execution_count": 81,
      "outputs": [
        {
          "output_type": "stream",
          "name": "stdout",
          "text": [
            "y_hat: [0.34854786 0.9553393  0.80513991 0.41116315 0.29381548 0.50426738\n",
            " 0.15108355 0.71924504 0.49988664 0.61633688]\n"
          ]
        }
      ]
    },
    {
      "cell_type": "code",
      "source": [
        "def cross_entropy(y:float, y_hat:float=1)->float:\n",
        "  y_hat = np.maximum(y_hat, 1e-10)\n",
        "  y = np.maximum(y, 1e-10)\n",
        "  loss = - (y*np.log(y_hat) + (1-y)*np.log(1-y_hat))\n",
        "  return loss"
      ],
      "metadata": {
        "id": "59nigFWgLCfS"
      },
      "execution_count": 97,
      "outputs": []
    },
    {
      "cell_type": "code",
      "source": [
        "print('y_hat: {} \\n y: {} \\n Loss: {}'.format(y_hat[0], y[0], cross_entropy(y[0], y_hat[0])))"
      ],
      "metadata": {
        "colab": {
          "base_uri": "https://localhost:8080/"
        },
        "id": "YibfoyLRLuZW",
        "outputId": "780acfd8-6276-4fd8-fd0a-f94628d5381b"
      },
      "execution_count": 72,
      "outputs": [
        {
          "output_type": "stream",
          "name": "stdout",
          "text": [
            "y_hat: 0.34854785588831305 \n",
            " y: 0 \n",
            " Loss: 0.4285513400473595\n"
          ]
        }
      ]
    },
    {
      "cell_type": "markdown",
      "source": [
        "## Cost function"
      ],
      "metadata": {
        "id": "oc_PBTgoAOAJ"
      }
    },
    {
      "cell_type": "code",
      "source": [
        "def J(y:np.array, y_hat:np.array=1)->float:\n",
        "  loss_vector = cross_entropy(y_hat, y)\n",
        "  print(loss_vector)\n",
        "  cost = np.mean(loss_vector)\n",
        "  return cost"
      ],
      "metadata": {
        "id": "E3VTXeVMMO_Z"
      },
      "execution_count": 75,
      "outputs": []
    },
    {
      "cell_type": "code",
      "source": [
        "y_hat"
      ],
      "metadata": {
        "colab": {
          "base_uri": "https://localhost:8080/"
        },
        "id": "IUZeqs8eMx1C",
        "outputId": "9b5ef3dc-2e6e-4e95-c83a-f98e51176054"
      },
      "execution_count": 78,
      "outputs": [
        {
          "output_type": "execute_result",
          "data": {
            "text/plain": [
              "array([0.34854786, 0.9553393 , 0.80513991, 0.41116315, 0.29381548,\n",
              "       0.50426738, 0.15108355, 0.71924504, 0.49988664, 0.61633688])"
            ]
          },
          "metadata": {},
          "execution_count": 78
        }
      ]
    },
    {
      "cell_type": "code",
      "source": [
        "print('y_hat: {} \\n y: {} \\n Loss: {}'.format(y_hat, y, J(y_hat, y)))"
      ],
      "metadata": {
        "colab": {
          "base_uri": "https://localhost:8080/"
        },
        "id": "_wp6NaJxMhyV",
        "outputId": "4bf23816-1fa4-44c5-eda2-fb6789759304"
      },
      "execution_count": 79,
      "outputs": [
        {
          "output_type": "stream",
          "name": "stdout",
          "text": [
            "[0.42855134 0.04568872 0.21673921 0.88876519 0.34787871 0.68464864\n",
            " 0.16379451 0.32955317 0.69337392 0.95799041]\n",
            "y_hat: [0.34854786 0.9553393  0.80513991 0.41116315 0.29381548 0.50426738\n",
            " 0.15108355 0.71924504 0.49988664 0.61633688] \n",
            " y: [0 1 1 1 0 1 0 1 1 0] \n",
            " Loss: 0.47569838077476484\n"
          ]
        }
      ]
    },
    {
      "cell_type": "markdown",
      "source": [
        "## Optimization: Gradient Descent"
      ],
      "metadata": {
        "id": "R2IFS8xwARUv"
      }
    }
  ]
}